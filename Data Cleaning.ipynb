{
 "cells": [
  {
   "cell_type": "code",
   "execution_count": 1,
   "metadata": {},
   "outputs": [
    {
     "data": {
      "text/plain": [
       "Index(['id', 'url', 'region', 'region_url', 'price', 'year', 'manufacturer',\n",
       "       'model', 'condition', 'cylinders', 'fuel', 'odometer', 'title_status',\n",
       "       'transmission', 'vin', 'drive', 'size', 'type', 'paint_color',\n",
       "       'image_url', 'description', 'county', 'state', 'lat', 'long'],\n",
       "      dtype='object')"
      ]
     },
     "execution_count": 1,
     "metadata": {},
     "output_type": "execute_result"
    }
   ],
   "source": [
    "import pandas as pd\n",
    "df = pd.read_csv('vehicles.csv')\n",
    "df.columns"
   ]
  },
  {
   "cell_type": "code",
   "execution_count": 3,
   "metadata": {},
   "outputs": [
    {
     "name": "stdout",
     "output_type": "stream",
     "text": [
      "<class 'pandas.core.frame.DataFrame'>\n",
      "RangeIndex: 423857 entries, 0 to 423856\n",
      "Data columns (total 25 columns):\n",
      " #   Column        Non-Null Count   Dtype  \n",
      "---  ------        --------------   -----  \n",
      " 0   id            423857 non-null  int64  \n",
      " 1   url           423857 non-null  object \n",
      " 2   region        423857 non-null  object \n",
      " 3   region_url    423857 non-null  object \n",
      " 4   price         423857 non-null  int64  \n",
      " 5   year          328743 non-null  float64\n",
      " 6   manufacturer  313242 non-null  object \n",
      " 7   model         325384 non-null  object \n",
      " 8   condition     176719 non-null  object \n",
      " 9   cylinders     197679 non-null  object \n",
      " 10  fuel          327214 non-null  object \n",
      " 11  odometer      270585 non-null  float64\n",
      " 12  title_status  327759 non-null  object \n",
      " 13  transmission  328065 non-null  object \n",
      " 14  vin           184420 non-null  object \n",
      " 15  drive         231119 non-null  object \n",
      " 16  size          102627 non-null  object \n",
      " 17  type          241157 non-null  object \n",
      " 18  paint_color   222203 non-null  object \n",
      " 19  image_url     329661 non-null  object \n",
      " 20  description   329654 non-null  object \n",
      " 21  county        0 non-null       float64\n",
      " 22  state         423857 non-null  object \n",
      " 23  lat           324404 non-null  float64\n",
      " 24  long          324404 non-null  float64\n",
      "dtypes: float64(5), int64(2), object(18)\n",
      "memory usage: 80.8+ MB\n"
     ]
    }
   ],
   "source": [
    "df.isnull().sum()\n",
    "df.shape\n",
    "df.describe\n",
    "df.info()"
   ]
  },
  {
   "cell_type": "code",
   "execution_count": 4,
   "metadata": {},
   "outputs": [],
   "source": [
    "#Data Cleaning(Removing Duplicates)\n",
    "df.drop_duplicates(inplace=True)"
   ]
  },
  {
   "cell_type": "code",
   "execution_count": 5,
   "metadata": {},
   "outputs": [
    {
     "data": {
      "text/plain": [
       "id              False\n",
       "url             False\n",
       "region          False\n",
       "region_url      False\n",
       "price           False\n",
       "year             True\n",
       "manufacturer     True\n",
       "model            True\n",
       "condition        True\n",
       "cylinders        True\n",
       "fuel             True\n",
       "odometer         True\n",
       "title_status     True\n",
       "transmission     True\n",
       "vin              True\n",
       "drive            True\n",
       "size             True\n",
       "type             True\n",
       "paint_color      True\n",
       "image_url        True\n",
       "description      True\n",
       "county           True\n",
       "state           False\n",
       "lat              True\n",
       "long             True\n",
       "dtype: bool"
      ]
     },
     "execution_count": 5,
     "metadata": {},
     "output_type": "execute_result"
    }
   ],
   "source": [
    "#Checking for null values\n",
    "df.isnull().any()\n",
    "#df.isnull().sum()/df.shape[0]"
   ]
  },
  {
   "cell_type": "code",
   "execution_count": 6,
   "metadata": {},
   "outputs": [
    {
     "data": {
      "text/plain": [
       "(213554, 25)"
      ]
     },
     "execution_count": 6,
     "metadata": {},
     "output_type": "execute_result"
    }
   ],
   "source": [
    "#Remove column above threshold(here more than 60% of null values)\n",
    "thresh = len(df)*.6\n",
    "df.dropna(thresh=thresh , axis = 1).shape  #For Droping Columns\n",
    "df.dropna(thresh = 21 , axis = 0).shape    #For Droping Rows"
   ]
  },
  {
   "cell_type": "code",
   "execution_count": 7,
   "metadata": {},
   "outputs": [
    {
     "data": {
      "text/plain": [
       "False"
      ]
     },
     "execution_count": 7,
     "metadata": {},
     "output_type": "execute_result"
    }
   ],
   "source": [
    "#Fill Null values with some other values\n",
    "df['odometer'].fillna(df['odometer'].median()).isnull().any()"
   ]
  },
  {
   "cell_type": "code",
   "execution_count": 8,
   "metadata": {},
   "outputs": [
    {
     "data": {
      "text/plain": [
       "False"
      ]
     },
     "execution_count": 8,
     "metadata": {},
     "output_type": "execute_result"
    }
   ],
   "source": [
    "df['odometer'].fillna(df['odometer'].mean()).isnull().any()"
   ]
  },
  {
   "cell_type": "code",
   "execution_count": 15,
   "metadata": {},
   "outputs": [
    {
     "data": {
      "text/plain": [
       "0     2000 *** GMC New Sierra 1500 Ext Cab 157.5  WB...\n",
       "1     For Sale:  2013 Hyundai Sonata GLS - $8750.  O...\n",
       "2     2013 Prius V Model Two. One owner—must sell my...\n",
       "3     2003 Mitsubishi Lancer Evolution, silver.  Abo...\n",
       "4     **Bad Credit, No Credit... No Problem!**2007 G...\n",
       "5     **Bad Credit, No Credit... No Problem!**2012 F...\n",
       "6     **Bad Credit, No Credit... No Problem!**2010 C...\n",
       "7     **Bad Credit, No Credit... No Problem!**2011 C...\n",
       "8     **Bad Credit, No Credit... No Problem!**2014 F...\n",
       "9     **Bad Credit, No Credit... No Problem!**2004 D...\n",
       "10    **Bad Credit, No Credit... No Problem!**2011 C...\n",
       "11    **Bad Credit, No Credit... No Problem!**2011 C...\n",
       "12    **Bad Credit, No Credit... No Problem!**2011 C...\n",
       "13    **Bad Credit, No Credit... No Problem!**2009 C...\n",
       "14    **Bad Credit, No Credit... No Problem!**2008 C...\n",
       "15    **Bad Credit, No Credit... No Problem!**2011 C...\n",
       "16    **Bad Credit, No Credit... No Problem!**2008 C...\n",
       "17    **Bad Credit, No Credit... No Problem!**2011 C...\n",
       "18    2009 INTERNATIONAL, ISM CUMMINS MOTOR 400hp wi...\n",
       "19    1994 Buick Century running and its twin for aw...\n",
       "Name: description, dtype: object"
      ]
     },
     "execution_count": 15,
     "metadata": {},
     "output_type": "execute_result"
    }
   ],
   "source": [
    "#Convert text to lower or upper\n",
    "df.description.head(20)"
   ]
  },
  {
   "cell_type": "code",
   "execution_count": 16,
   "metadata": {},
   "outputs": [
    {
     "data": {
      "text/plain": [
       "0     2000 *** gmc new sierra 1500 ext cab 157.5  wb...\n",
       "1     for sale:  2013 hyundai sonata gls - $8750.  o...\n",
       "2     2013 prius v model two. one owner—must sell my...\n",
       "3     2003 mitsubishi lancer evolution, silver.  abo...\n",
       "4     **bad credit, no credit... no problem!**2007 g...\n",
       "5     **bad credit, no credit... no problem!**2012 f...\n",
       "6     **bad credit, no credit... no problem!**2010 c...\n",
       "7     **bad credit, no credit... no problem!**2011 c...\n",
       "8     **bad credit, no credit... no problem!**2014 f...\n",
       "9     **bad credit, no credit... no problem!**2004 d...\n",
       "10    **bad credit, no credit... no problem!**2011 c...\n",
       "11    **bad credit, no credit... no problem!**2011 c...\n",
       "12    **bad credit, no credit... no problem!**2011 c...\n",
       "13    **bad credit, no credit... no problem!**2009 c...\n",
       "14    **bad credit, no credit... no problem!**2008 c...\n",
       "15    **bad credit, no credit... no problem!**2011 c...\n",
       "16    **bad credit, no credit... no problem!**2008 c...\n",
       "17    **bad credit, no credit... no problem!**2011 c...\n",
       "18    2009 international, ism cummins motor 400hp wi...\n",
       "19    1994 buick century running and its twin for aw...\n",
       "Name: description, dtype: object"
      ]
     },
     "execution_count": 16,
     "metadata": {},
     "output_type": "execute_result"
    }
   ],
   "source": [
    "#df.description.apply(lambda x:x.lower()) does not work because description has numeric data int it. We can overcome by this command\n",
    "df.description.str.lower().head(20)"
   ]
  },
  {
   "cell_type": "code",
   "execution_count": 19,
   "metadata": {},
   "outputs": [
    {
     "data": {
      "text/plain": [
       "0    2000 *** gmc new sierra 1500 ext cab 157.5  wb...\n",
       "1    for sale:  2013 hyundai sonata gls - $8750.  o...\n",
       "2    2013 prius v model two. one owner—must sell my...\n",
       "3    2003 mitsubishi lancer evolution, silver.  abo...\n",
       "4    **bad credit, no credit... no problem!**2007 g...\n",
       "Name: description, dtype: object"
      ]
     },
     "execution_count": 19,
     "metadata": {},
     "output_type": "execute_result"
    }
   ],
   "source": [
    "df.description.head().apply(lambda x: x.lower()) #(lambda x:x.upper())"
   ]
  },
  {
   "cell_type": "code",
   "execution_count": 2,
   "metadata": {},
   "outputs": [
    {
     "data": {
      "text/plain": [
       "0    2000 *** gmc new sierra 1500 ext cab 157.5  wb...\n",
       "1    for sale:  2013 hyundai sonata gls - $8750.  o...\n",
       "2    2013 prius v model two. one owner—must sell my...\n",
       "3    2003 mitsubishi lancer evolution, silver.  abo...\n",
       "4    **bad credit, no credit... no problem!**2007 g...\n",
       "Name: description, dtype: object"
      ]
     },
     "execution_count": 2,
     "metadata": {},
     "output_type": "execute_result"
    }
   ],
   "source": [
    "#Returning(casting) description as string and then changing it to lower case.\n",
    "df.description.astype(str).apply(lambda x: x.lower()).head()"
   ]
  },
  {
   "cell_type": "code",
   "execution_count": 31,
   "metadata": {},
   "outputs": [],
   "source": [
    "#string to int\n",
    "df.cylinders.value_counts()\n",
    "df.cylinders=df.cylinders.apply(lambda x: str(x).lower().replace('cylinders','').strip())"
   ]
  },
  {
   "cell_type": "code",
   "execution_count": 38,
   "metadata": {},
   "outputs": [
    {
     "data": {
      "text/plain": [
       "0     8.0\n",
       "1     4.0\n",
       "2     4.0\n",
       "3     4.0\n",
       "4     8.0\n",
       "5     5.6\n",
       "6     5.6\n",
       "7     5.6\n",
       "8     5.6\n",
       "9     5.6\n",
       "10    5.6\n",
       "11    5.6\n",
       "12    5.6\n",
       "13    5.6\n",
       "14    5.6\n",
       "15    5.6\n",
       "16    5.6\n",
       "17    5.6\n",
       "18    5.6\n",
       "19    5.6\n",
       "Name: cylinders, dtype: float64"
      ]
     },
     "execution_count": 38,
     "metadata": {},
     "output_type": "execute_result"
    }
   ],
   "source": [
    "df.cylinders=pd.to_numeric(df.cylinders,errors = 'coerce')\n",
    "df.cylinders.fillna(df.cylinders.mean(),inplace=True)\n",
    "df.cylinders.head(20)"
   ]
  },
  {
   "cell_type": "code",
   "execution_count": 40,
   "metadata": {},
   "outputs": [
    {
     "data": {
      "text/plain": [
       "<matplotlib.axes._subplots.AxesSubplot at 0x275647dca90>"
      ]
     },
     "execution_count": 40,
     "metadata": {},
     "output_type": "execute_result"
    },
    {
     "data": {
      "image/png": "[encoded data removed]",
      "text/plain": [
       "<Figure size 432x288 with 1 Axes>"
      ]
     },
     "metadata": {
      "needs_background": "light"
     },
     "output_type": "display_data"
    }
   ],
   "source": [
    "#Data Visualization\n",
    "df.boxplot('odometer')"
   ]
  },
  {
   "cell_type": "code",
   "execution_count": 55,
   "metadata": {},
   "outputs": [
    {
     "data": {
      "text/plain": [
       "array([[<matplotlib.axes._subplots.AxesSubplot object at 0x0000027644402370>]],\n",
       "      dtype=object)"
      ]
     },
     "execution_count": 55,
     "metadata": {},
     "output_type": "execute_result"
    },
    {
     "data": {
      "image/png": "[encoded data removed]",
      "text/plain": [
       "<Figure size 432x288 with 1 Axes>"
      ]
     },
     "metadata": {
      "needs_background": "light"
     },
     "output_type": "display_data"
    }
   ],
   "source": [
    "df.hist('odometer')"
   ]
  },
  {
   "cell_type": "code",
   "execution_count": 41,
   "metadata": {},
   "outputs": [
    {
     "data": {
      "text/plain": [
       "<matplotlib.axes._subplots.AxesSubplot at 0x27564b36220>"
      ]
     },
     "execution_count": 41,
     "metadata": {},
     "output_type": "execute_result"
    },
    {
     "data": {
      "image/png": "[encoded data removed]",
      "text/plain": [
       "<Figure size 432x288 with 1 Axes>"
      ]
     },
     "metadata": {
      "needs_background": "light"
     },
     "output_type": "display_data"
    }
   ],
   "source": [
    "df.boxplot('price')"
   ]
  },
  {
   "cell_type": "code",
   "execution_count": 51,
   "metadata": {},
   "outputs": [
    {
     "data": {
      "text/plain": [
       "array([[<matplotlib.axes._subplots.AxesSubplot object at 0x0000027644293B20>]],\n",
       "      dtype=object)"
      ]
     },
     "execution_count": 51,
     "metadata": {},
     "output_type": "execute_result"
    },
    {
     "data": {
      "image/png": "[encoded data removed]",
      "text/plain": [
       "<Figure size 432x288 with 1 Axes>"
      ]
     },
     "metadata": {
      "needs_background": "light"
     },
     "output_type": "display_data"
    }
   ],
   "source": [
    "df.hist('price')"
   ]
  },
  {
   "cell_type": "code",
   "execution_count": 47,
   "metadata": {},
   "outputs": [],
   "source": [
    "numeric = df._get_numeric_data()\n",
    "from scipy import stats\n",
    "import numpy as np"
   ]
  },
  {
   "cell_type": "code",
   "execution_count": 48,
   "metadata": {},
   "outputs": [],
   "source": [
    "df_outliers = df[(df.price < df.price.quantile(.995)) & (df.price>df.price.quantile(.05))]"
   ]
  },
  {
   "cell_type": "code",
   "execution_count": 49,
   "metadata": {},
   "outputs": [
    {
     "data": {
      "text/plain": [
       "<matplotlib.axes._subplots.AxesSubplot at 0x276442382e0>"
      ]
     },
     "execution_count": 49,
     "metadata": {},
     "output_type": "execute_result"
    },
    {
     "data": {
      "image/png": "[encoded data removed]",
      "text/plain": [
       "<Figure size 432x288 with 1 Axes>"
      ]
     },
     "metadata": {
      "needs_background": "light"
     },
     "output_type": "display_data"
    }
   ],
   "source": [
    "df_outliers.boxplot('price')"
   ]
  },
  {
   "cell_type": "code",
   "execution_count": 52,
   "metadata": {},
   "outputs": [
    {
     "data": {
      "text/plain": [
       "array([[<matplotlib.axes._subplots.AxesSubplot object at 0x00000276443163D0>]],\n",
       "      dtype=object)"
      ]
     },
     "execution_count": 52,
     "metadata": {},
     "output_type": "execute_result"
    },
    {
     "data": {
      "image/png": "[encoded data removed]",
      "text/plain": [
       "<Figure size 432x288 with 1 Axes>"
      ]
     },
     "metadata": {
      "needs_background": "light"
     },
     "output_type": "display_data"
    }
   ],
   "source": [
    "df_outliers.hist('price')"
   ]
  },
  {
   "cell_type": "code",
   "execution_count": 54,
   "metadata": {},
   "outputs": [
    {
     "data": {
      "text/plain": [
       "array([[<matplotlib.axes._subplots.AxesSubplot object at 0x0000027644381BE0>]],\n",
       "      dtype=object)"
      ]
     },
     "execution_count": 54,
     "metadata": {},
     "output_type": "execute_result"
    },
    {
     "data": {
      "image/png": "[encoded data removed]",
      "text/plain": [
       "<Figure size 432x288 with 1 Axes>"
      ]
     },
     "metadata": {
      "needs_background": "light"
     },
     "output_type": "display_data"
    }
   ],
   "source": [
    "df_outliers = df[(df.odometer < df.odometer.quantile(.995)) & (df.odometer > df.odometer.quantile(.05))]\n",
    "df_outliers.hist('odometer')"
   ]
  },
  {
   "cell_type": "code",
   "execution_count": 56,
   "metadata": {},
   "outputs": [
    {
     "data": {
      "text/plain": [
       "<matplotlib.axes._subplots.AxesSubplot at 0x276444704c0>"
      ]
     },
     "execution_count": 56,
     "metadata": {},
     "output_type": "execute_result"
    },
    {
     "data": {
      "image/png": "[encoded data removed]",
      "text/plain": [
       "<Figure size 432x288 with 1 Axes>"
      ]
     },
     "metadata": {
      "needs_background": "light"
     },
     "output_type": "display_data"
    }
   ],
   "source": [
    "df_outliers.boxplot('odometer')"
   ]
  },
  {
   "cell_type": "code",
   "execution_count": 58,
   "metadata": {},
   "outputs": [
    {
     "data": {
      "text/plain": [
       "array([[1. ],\n",
       "       [0. ],\n",
       "       [0. ],\n",
       "       ...,\n",
       "       [0.4],\n",
       "       [0.4],\n",
       "       [0.4]])"
      ]
     },
     "execution_count": 58,
     "metadata": {},
     "output_type": "execute_result"
    }
   ],
   "source": [
    "#Data Scaling\n",
    "from sklearn.preprocessing import MinMaxScaler\n",
    "scaler = MinMaxScaler()\n",
    "scaler.fit(df.cylinders.values.reshape(-1,1))\n",
    "scaler.transform(df.cylinders.values.reshape(-1,1))"
   ]
  },
  {
   "cell_type": "code",
   "execution_count": 60,
   "metadata": {},
   "outputs": [
    {
     "data": {
      "text/plain": [
       "array([[1. ],\n",
       "       [0. ],\n",
       "       [0. ],\n",
       "       ...,\n",
       "       [0.4],\n",
       "       [0.4],\n",
       "       [0.4]])"
      ]
     },
     "execution_count": 60,
     "metadata": {},
     "output_type": "execute_result"
    }
   ],
   "source": [
    "scaler.fit_transform(df.cylinders.values.reshape(-1,1)) #will give same result as above"
   ]
  }
 ],
 "metadata": {
  "kernelspec": {
   "display_name": "Python 3",
   "language": "python",
   "name": "python3"
  },
  "language_info": {
   "codemirror_mode": {
    "name": "ipython",
    "version": 3
   },
   "file_extension": ".py",
   "mimetype": "text/x-python",
   "name": "python",
   "nbconvert_exporter": "python",
   "pygments_lexer": "ipython3",
   "version": "3.8.3"
  }
 },
 "nbformat": 4,
 "nbformat_minor": 4
}
