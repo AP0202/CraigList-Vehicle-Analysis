{
 "cells": [
  {
   "cell_type": "code",
   "execution_count": 16,
   "metadata": {},
   "outputs": [],
   "source": [
    "import pandas as pd\n",
    "import numpy as np\n",
    "import matplotlib.pyplot as plt"
   ]
  },
  {
   "cell_type": "code",
   "execution_count": 17,
   "metadata": {},
   "outputs": [
    {
     "data": {
      "text/plain": [
       "Index(['id', 'url', 'region', 'region_url', 'price', 'year', 'manufacturer',\n",
       "       'model', 'condition', 'cylinders', 'fuel', 'odometer', 'title_status',\n",
       "       'transmission', 'vin', 'drive', 'size', 'type', 'paint_color',\n",
       "       'image_url', 'description', 'county', 'state', 'lat', 'long'],\n",
       "      dtype='object')"
      ]
     },
     "execution_count": 17,
     "metadata": {},
     "output_type": "execute_result"
    }
   ],
   "source": [
    "data = pd.read_csv('vehicles.csv')\n",
    "data.describe()\n",
    "data.columns"
   ]
  },
  {
   "cell_type": "code",
   "execution_count": 18,
   "metadata": {},
   "outputs": [
    {
     "name": "stdout",
     "output_type": "stream",
     "text": [
      "<class 'pandas.core.frame.DataFrame'>\n",
      "RangeIndex: 423857 entries, 0 to 423856\n",
      "Data columns (total 25 columns):\n",
      " #   Column        Non-Null Count   Dtype  \n",
      "---  ------        --------------   -----  \n",
      " 0   id            423857 non-null  int64  \n",
      " 1   url           423857 non-null  object \n",
      " 2   region        423857 non-null  object \n",
      " 3   region_url    423857 non-null  object \n",
      " 4   price         423857 non-null  int64  \n",
      " 5   year          328743 non-null  float64\n",
      " 6   manufacturer  313242 non-null  object \n",
      " 7   model         325384 non-null  object \n",
      " 8   condition     176719 non-null  object \n",
      " 9   cylinders     197679 non-null  object \n",
      " 10  fuel          327214 non-null  object \n",
      " 11  odometer      270585 non-null  float64\n",
      " 12  title_status  327759 non-null  object \n",
      " 13  transmission  328065 non-null  object \n",
      " 14  vin           184420 non-null  object \n",
      " 15  drive         231119 non-null  object \n",
      " 16  size          102627 non-null  object \n",
      " 17  type          241157 non-null  object \n",
      " 18  paint_color   222203 non-null  object \n",
      " 19  image_url     329661 non-null  object \n",
      " 20  description   329654 non-null  object \n",
      " 21  county        0 non-null       float64\n",
      " 22  state         423857 non-null  object \n",
      " 23  lat           324404 non-null  float64\n",
      " 24  long          324404 non-null  float64\n",
      "dtypes: float64(5), int64(2), object(18)\n",
      "memory usage: 80.8+ MB\n"
     ]
    }
   ],
   "source": [
    "data.info()"
   ]
  },
  {
   "cell_type": "code",
   "execution_count": 19,
   "metadata": {},
   "outputs": [],
   "source": [
    "#Removing Duplicates\n",
    "data.drop_duplicates(inplace=True)"
   ]
  },
  {
   "cell_type": "code",
   "execution_count": 20,
   "metadata": {},
   "outputs": [
    {
     "data": {
      "text/plain": [
       "id              0.000000\n",
       "url             0.000000\n",
       "region          0.000000\n",
       "region_url      0.000000\n",
       "price           0.000000\n",
       "year            0.224401\n",
       "manufacturer    0.260972\n",
       "model           0.232326\n",
       "condition       0.583069\n",
       "cylinders       0.533619\n",
       "fuel            0.228009\n",
       "odometer        0.361613\n",
       "title_status    0.226723\n",
       "transmission    0.226001\n",
       "vin             0.564900\n",
       "drive           0.454724\n",
       "size            0.757874\n",
       "type            0.431042\n",
       "paint_color     0.475760\n",
       "image_url       0.222235\n",
       "description     0.222252\n",
       "county          1.000000\n",
       "state           0.000000\n",
       "lat             0.234638\n",
       "long            0.234638\n",
       "dtype: float64"
      ]
     },
     "execution_count": 20,
     "metadata": {},
     "output_type": "execute_result"
    }
   ],
   "source": [
    "#Checking for null values.\n",
    "data.isnull().any()\n",
    "data.isnull().sum() / data.shape[0]"
   ]
  },
  {
   "cell_type": "code",
   "execution_count": 21,
   "metadata": {},
   "outputs": [
    {
     "data": {
      "text/html": [
       "<div>\n",
       "<style scoped>\n",
       "    .dataframe tbody tr th:only-of-type {\n",
       "        vertical-align: middle;\n",
       "    }\n",
       "\n",
       "    .dataframe tbody tr th {\n",
       "        vertical-align: top;\n",
       "    }\n",
       "\n",
       "    .dataframe thead th {\n",
       "        text-align: right;\n",
       "    }\n",
       "</style>\n",
       "<table border=\"1\" class=\"dataframe\">\n",
       "  <thead>\n",
       "    <tr style=\"text-align: right;\">\n",
       "      <th></th>\n",
       "      <th>id</th>\n",
       "      <th>url</th>\n",
       "      <th>region</th>\n",
       "      <th>region_url</th>\n",
       "      <th>price</th>\n",
       "      <th>year</th>\n",
       "      <th>manufacturer</th>\n",
       "      <th>model</th>\n",
       "      <th>fuel</th>\n",
       "      <th>odometer</th>\n",
       "      <th>title_status</th>\n",
       "      <th>transmission</th>\n",
       "      <th>image_url</th>\n",
       "      <th>description</th>\n",
       "      <th>state</th>\n",
       "      <th>lat</th>\n",
       "      <th>long</th>\n",
       "    </tr>\n",
       "  </thead>\n",
       "  <tbody>\n",
       "    <tr>\n",
       "      <th>0</th>\n",
       "      <td>7184791621</td>\n",
       "      <td>https://duluth.craigslist.org/ctd/d/duluth-200...</td>\n",
       "      <td>duluth / superior</td>\n",
       "      <td>https://duluth.craigslist.org</td>\n",
       "      <td>6995</td>\n",
       "      <td>2000.0</td>\n",
       "      <td>gmc</td>\n",
       "      <td>new sierra 1500</td>\n",
       "      <td>gas</td>\n",
       "      <td>167783.0</td>\n",
       "      <td>clean</td>\n",
       "      <td>automatic</td>\n",
       "      <td>https://images.craigslist.org/00n0n_f06ykBMcdh...</td>\n",
       "      <td>2000 *** GMC New Sierra 1500 Ext Cab 157.5  WB...</td>\n",
       "      <td>mn</td>\n",
       "      <td>46.8433</td>\n",
       "      <td>-92.2550</td>\n",
       "    </tr>\n",
       "    <tr>\n",
       "      <th>1</th>\n",
       "      <td>7184773187</td>\n",
       "      <td>https://duluth.craigslist.org/cto/d/saginaw-20...</td>\n",
       "      <td>duluth / superior</td>\n",
       "      <td>https://duluth.craigslist.org</td>\n",
       "      <td>8750</td>\n",
       "      <td>2013.0</td>\n",
       "      <td>hyundai</td>\n",
       "      <td>sonata</td>\n",
       "      <td>gas</td>\n",
       "      <td>90821.0</td>\n",
       "      <td>clean</td>\n",
       "      <td>automatic</td>\n",
       "      <td>https://images.craigslist.org/00d0d_kgZ6xoeRw2...</td>\n",
       "      <td>For Sale:  2013 Hyundai Sonata GLS - $8750.  O...</td>\n",
       "      <td>mn</td>\n",
       "      <td>46.9074</td>\n",
       "      <td>-92.4638</td>\n",
       "    </tr>\n",
       "    <tr>\n",
       "      <th>2</th>\n",
       "      <td>7193375964</td>\n",
       "      <td>https://newhaven.craigslist.org/cto/d/stratfor...</td>\n",
       "      <td>new haven</td>\n",
       "      <td>https://newhaven.craigslist.org</td>\n",
       "      <td>10900</td>\n",
       "      <td>2013.0</td>\n",
       "      <td>toyota</td>\n",
       "      <td>prius</td>\n",
       "      <td>hybrid</td>\n",
       "      <td>92800.0</td>\n",
       "      <td>clean</td>\n",
       "      <td>automatic</td>\n",
       "      <td>https://images.craigslist.org/00d0d_3sHGxPbY2O...</td>\n",
       "      <td>2013 Prius V Model Two. One owner—must sell my...</td>\n",
       "      <td>ct</td>\n",
       "      <td>41.1770</td>\n",
       "      <td>-73.1336</td>\n",
       "    </tr>\n",
       "    <tr>\n",
       "      <th>3</th>\n",
       "      <td>7195108810</td>\n",
       "      <td>https://albuquerque.craigslist.org/cto/d/albuq...</td>\n",
       "      <td>albuquerque</td>\n",
       "      <td>https://albuquerque.craigslist.org</td>\n",
       "      <td>12500</td>\n",
       "      <td>2003.0</td>\n",
       "      <td>mitsubishi</td>\n",
       "      <td>lancer</td>\n",
       "      <td>gas</td>\n",
       "      <td>NaN</td>\n",
       "      <td>clean</td>\n",
       "      <td>manual</td>\n",
       "      <td>https://images.craigslist.org/00m0m_4a8Pb6JbMG...</td>\n",
       "      <td>2003 Mitsubishi Lancer Evolution, silver.  Abo...</td>\n",
       "      <td>nm</td>\n",
       "      <td>35.1868</td>\n",
       "      <td>-106.6650</td>\n",
       "    </tr>\n",
       "    <tr>\n",
       "      <th>4</th>\n",
       "      <td>7184712241</td>\n",
       "      <td>https://duluth.craigslist.org/ctd/d/rush-city-...</td>\n",
       "      <td>duluth / superior</td>\n",
       "      <td>https://duluth.craigslist.org</td>\n",
       "      <td>16995</td>\n",
       "      <td>2007.0</td>\n",
       "      <td>gmc</td>\n",
       "      <td>sierra classic 2500hd</td>\n",
       "      <td>diesel</td>\n",
       "      <td>254217.0</td>\n",
       "      <td>clean</td>\n",
       "      <td>automatic</td>\n",
       "      <td>https://images.craigslist.org/01414_g093aPtSMW...</td>\n",
       "      <td>**Bad Credit, No Credit... No Problem!**2007 G...</td>\n",
       "      <td>mn</td>\n",
       "      <td>45.6836</td>\n",
       "      <td>-92.9648</td>\n",
       "    </tr>\n",
       "    <tr>\n",
       "      <th>...</th>\n",
       "      <td>...</td>\n",
       "      <td>...</td>\n",
       "      <td>...</td>\n",
       "      <td>...</td>\n",
       "      <td>...</td>\n",
       "      <td>...</td>\n",
       "      <td>...</td>\n",
       "      <td>...</td>\n",
       "      <td>...</td>\n",
       "      <td>...</td>\n",
       "      <td>...</td>\n",
       "      <td>...</td>\n",
       "      <td>...</td>\n",
       "      <td>...</td>\n",
       "      <td>...</td>\n",
       "      <td>...</td>\n",
       "      <td>...</td>\n",
       "    </tr>\n",
       "    <tr>\n",
       "      <th>423852</th>\n",
       "      <td>7184919761</td>\n",
       "      <td>https://duluth.craigslist.org/cto/d/duluth-200...</td>\n",
       "      <td>duluth / superior</td>\n",
       "      <td>https://duluth.craigslist.org</td>\n",
       "      <td>1600</td>\n",
       "      <td>2006.0</td>\n",
       "      <td>hyundai</td>\n",
       "      <td>sonata</td>\n",
       "      <td>gas</td>\n",
       "      <td>159980.0</td>\n",
       "      <td>clean</td>\n",
       "      <td>automatic</td>\n",
       "      <td>https://images.craigslist.org/00E0E_8o5RKLUz3o...</td>\n",
       "      <td>Motor runs and drives good. Transmission shift...</td>\n",
       "      <td>mn</td>\n",
       "      <td>46.8348</td>\n",
       "      <td>-92.0742</td>\n",
       "    </tr>\n",
       "    <tr>\n",
       "      <th>423853</th>\n",
       "      <td>7184844576</td>\n",
       "      <td>https://duluth.craigslist.org/cto/d/duluth-200...</td>\n",
       "      <td>duluth / superior</td>\n",
       "      <td>https://duluth.craigslist.org</td>\n",
       "      <td>9000</td>\n",
       "      <td>2003.0</td>\n",
       "      <td>toyota</td>\n",
       "      <td>sequoia limited</td>\n",
       "      <td>gas</td>\n",
       "      <td>160000.0</td>\n",
       "      <td>clean</td>\n",
       "      <td>automatic</td>\n",
       "      <td>https://images.craigslist.org/00G0G_BT0Ha3X736...</td>\n",
       "      <td>2 owner 0 rust not from here... Leather ,roof ...</td>\n",
       "      <td>mn</td>\n",
       "      <td>46.9369</td>\n",
       "      <td>-91.9325</td>\n",
       "    </tr>\n",
       "    <tr>\n",
       "      <th>423854</th>\n",
       "      <td>7184805809</td>\n",
       "      <td>https://duluth.craigslist.org/cto/d/duluth-94-...</td>\n",
       "      <td>duluth / superior</td>\n",
       "      <td>https://duluth.craigslist.org</td>\n",
       "      <td>700</td>\n",
       "      <td>1994.0</td>\n",
       "      <td>ford</td>\n",
       "      <td>f-150</td>\n",
       "      <td>gas</td>\n",
       "      <td>212000.0</td>\n",
       "      <td>clean</td>\n",
       "      <td>manual</td>\n",
       "      <td>https://images.craigslist.org/00L0L_2MgECwYWhp...</td>\n",
       "      <td>I'm selling this beautiful old pickup that I j...</td>\n",
       "      <td>mn</td>\n",
       "      <td>46.7715</td>\n",
       "      <td>-92.1279</td>\n",
       "    </tr>\n",
       "    <tr>\n",
       "      <th>423855</th>\n",
       "      <td>7184791927</td>\n",
       "      <td>https://duluth.craigslist.org/ctd/d/duluth-199...</td>\n",
       "      <td>duluth / superior</td>\n",
       "      <td>https://duluth.craigslist.org</td>\n",
       "      <td>3800</td>\n",
       "      <td>1999.0</td>\n",
       "      <td>lincoln</td>\n",
       "      <td>town car</td>\n",
       "      <td>gas</td>\n",
       "      <td>160000.0</td>\n",
       "      <td>clean</td>\n",
       "      <td>automatic</td>\n",
       "      <td>https://images.craigslist.org/00q0q_6msyGUIqK3...</td>\n",
       "      <td>1999 *** Lincoln Town Car 4dr Sdn Signature Se...</td>\n",
       "      <td>mn</td>\n",
       "      <td>46.8433</td>\n",
       "      <td>-92.2550</td>\n",
       "    </tr>\n",
       "    <tr>\n",
       "      <th>423856</th>\n",
       "      <td>7195109037</td>\n",
       "      <td>https://albuquerque.craigslist.org/ctd/d/albuq...</td>\n",
       "      <td>albuquerque</td>\n",
       "      <td>https://albuquerque.craigslist.org</td>\n",
       "      <td>8650</td>\n",
       "      <td>2015.0</td>\n",
       "      <td>nissan</td>\n",
       "      <td>versa</td>\n",
       "      <td>gas</td>\n",
       "      <td>160526.0</td>\n",
       "      <td>clean</td>\n",
       "      <td>automatic</td>\n",
       "      <td>https://images.craigslist.org/00e0e_aTHizIb1II...</td>\n",
       "      <td>2015 Nissan Versa S     Offered by: Southwest ...</td>\n",
       "      <td>nm</td>\n",
       "      <td>35.1851</td>\n",
       "      <td>-106.5850</td>\n",
       "    </tr>\n",
       "  </tbody>\n",
       "</table>\n",
       "<p>423857 rows × 17 columns</p>\n",
       "</div>"
      ],
      "text/plain": [
       "                id                                                url  \\\n",
       "0       7184791621  https://duluth.craigslist.org/ctd/d/duluth-200...   \n",
       "1       7184773187  https://duluth.craigslist.org/cto/d/saginaw-20...   \n",
       "2       7193375964  https://newhaven.craigslist.org/cto/d/stratfor...   \n",
       "3       7195108810  https://albuquerque.craigslist.org/cto/d/albuq...   \n",
       "4       7184712241  https://duluth.craigslist.org/ctd/d/rush-city-...   \n",
       "...            ...                                                ...   \n",
       "423852  7184919761  https://duluth.craigslist.org/cto/d/duluth-200...   \n",
       "423853  7184844576  https://duluth.craigslist.org/cto/d/duluth-200...   \n",
       "423854  7184805809  https://duluth.craigslist.org/cto/d/duluth-94-...   \n",
       "423855  7184791927  https://duluth.craigslist.org/ctd/d/duluth-199...   \n",
       "423856  7195109037  https://albuquerque.craigslist.org/ctd/d/albuq...   \n",
       "\n",
       "                   region                          region_url  price    year  \\\n",
       "0       duluth / superior       https://duluth.craigslist.org   6995  2000.0   \n",
       "1       duluth / superior       https://duluth.craigslist.org   8750  2013.0   \n",
       "2               new haven     https://newhaven.craigslist.org  10900  2013.0   \n",
       "3             albuquerque  https://albuquerque.craigslist.org  12500  2003.0   \n",
       "4       duluth / superior       https://duluth.craigslist.org  16995  2007.0   \n",
       "...                   ...                                 ...    ...     ...   \n",
       "423852  duluth / superior       https://duluth.craigslist.org   1600  2006.0   \n",
       "423853  duluth / superior       https://duluth.craigslist.org   9000  2003.0   \n",
       "423854  duluth / superior       https://duluth.craigslist.org    700  1994.0   \n",
       "423855  duluth / superior       https://duluth.craigslist.org   3800  1999.0   \n",
       "423856        albuquerque  https://albuquerque.craigslist.org   8650  2015.0   \n",
       "\n",
       "       manufacturer                  model    fuel  odometer title_status  \\\n",
       "0               gmc        new sierra 1500     gas  167783.0        clean   \n",
       "1           hyundai                 sonata     gas   90821.0        clean   \n",
       "2            toyota                  prius  hybrid   92800.0        clean   \n",
       "3        mitsubishi                 lancer     gas       NaN        clean   \n",
       "4               gmc  sierra classic 2500hd  diesel  254217.0        clean   \n",
       "...             ...                    ...     ...       ...          ...   \n",
       "423852      hyundai                 sonata     gas  159980.0        clean   \n",
       "423853       toyota        sequoia limited     gas  160000.0        clean   \n",
       "423854         ford                  f-150     gas  212000.0        clean   \n",
       "423855      lincoln               town car     gas  160000.0        clean   \n",
       "423856       nissan                  versa     gas  160526.0        clean   \n",
       "\n",
       "       transmission                                          image_url  \\\n",
       "0         automatic  https://images.craigslist.org/00n0n_f06ykBMcdh...   \n",
       "1         automatic  https://images.craigslist.org/00d0d_kgZ6xoeRw2...   \n",
       "2         automatic  https://images.craigslist.org/00d0d_3sHGxPbY2O...   \n",
       "3            manual  https://images.craigslist.org/00m0m_4a8Pb6JbMG...   \n",
       "4         automatic  https://images.craigslist.org/01414_g093aPtSMW...   \n",
       "...             ...                                                ...   \n",
       "423852    automatic  https://images.craigslist.org/00E0E_8o5RKLUz3o...   \n",
       "423853    automatic  https://images.craigslist.org/00G0G_BT0Ha3X736...   \n",
       "423854       manual  https://images.craigslist.org/00L0L_2MgECwYWhp...   \n",
       "423855    automatic  https://images.craigslist.org/00q0q_6msyGUIqK3...   \n",
       "423856    automatic  https://images.craigslist.org/00e0e_aTHizIb1II...   \n",
       "\n",
       "                                              description state      lat  \\\n",
       "0       2000 *** GMC New Sierra 1500 Ext Cab 157.5  WB...    mn  46.8433   \n",
       "1       For Sale:  2013 Hyundai Sonata GLS - $8750.  O...    mn  46.9074   \n",
       "2       2013 Prius V Model Two. One owner—must sell my...    ct  41.1770   \n",
       "3       2003 Mitsubishi Lancer Evolution, silver.  Abo...    nm  35.1868   \n",
       "4       **Bad Credit, No Credit... No Problem!**2007 G...    mn  45.6836   \n",
       "...                                                   ...   ...      ...   \n",
       "423852  Motor runs and drives good. Transmission shift...    mn  46.8348   \n",
       "423853  2 owner 0 rust not from here... Leather ,roof ...    mn  46.9369   \n",
       "423854  I'm selling this beautiful old pickup that I j...    mn  46.7715   \n",
       "423855  1999 *** Lincoln Town Car 4dr Sdn Signature Se...    mn  46.8433   \n",
       "423856  2015 Nissan Versa S     Offered by: Southwest ...    nm  35.1851   \n",
       "\n",
       "            long  \n",
       "0       -92.2550  \n",
       "1       -92.4638  \n",
       "2       -73.1336  \n",
       "3      -106.6650  \n",
       "4       -92.9648  \n",
       "...          ...  \n",
       "423852  -92.0742  \n",
       "423853  -91.9325  \n",
       "423854  -92.1279  \n",
       "423855  -92.2550  \n",
       "423856 -106.5850  \n",
       "\n",
       "[423857 rows x 17 columns]"
      ]
     },
     "execution_count": 21,
     "metadata": {},
     "output_type": "execute_result"
    }
   ],
   "source": [
    "#Removing null values from columns by creating a threshold value.\n",
    "thresh = len(data)*.6\n",
    "data.dropna(thresh=thresh,axis=1)"
   ]
  },
  {
   "cell_type": "code",
   "execution_count": 22,
   "metadata": {},
   "outputs": [
    {
     "data": {
      "text/plain": [
       "11245"
      ]
     },
     "execution_count": 22,
     "metadata": {},
     "output_type": "execute_result"
    }
   ],
   "source": [
    "data.description.head(5)\n",
    "data.description.head().apply(lambda x: x.lower())\n",
    "data['text_len'] = data.description.apply(lambda x: len(str(x)))\n",
    "(data['text_len'].value_counts() > 1).sum()"
   ]
  },
  {
   "cell_type": "code",
   "execution_count": 23,
   "metadata": {},
   "outputs": [
    {
     "data": {
      "text/plain": [
       "nan      226178\n",
       "6         70130\n",
       "4         69542\n",
       "8         54091\n",
       "5          1594\n",
       "10          884\n",
       "other       851\n",
       "3           406\n",
       "12          181\n",
       "Name: cylinders, dtype: int64"
      ]
     },
     "execution_count": 23,
     "metadata": {},
     "output_type": "execute_result"
    }
   ],
   "source": [
    "data.cylinders.dtype\n",
    "data.cylinders.value_counts()\n",
    "data.cylinders = data.cylinders.apply(lambda x: str(x).replace('cylinders','').strip())\n",
    "data.cylinders.value_counts()"
   ]
  },
  {
   "cell_type": "code",
   "execution_count": 24,
   "metadata": {},
   "outputs": [
    {
     "data": {
      "text/plain": [
       "6.0     70130\n",
       "4.0     69542\n",
       "8.0     54091\n",
       "5.0      1594\n",
       "10.0      884\n",
       "3.0       406\n",
       "12.0      181\n",
       "Name: cylinders, dtype: int64"
      ]
     },
     "execution_count": 24,
     "metadata": {},
     "output_type": "execute_result"
    }
   ],
   "source": [
    "data.cylinders=pd.to_numeric(data.cylinders,errors='coerce')\n",
    "data.cylinders.value_counts()"
   ]
  },
  {
   "cell_type": "code",
   "execution_count": 25,
   "metadata": {},
   "outputs": [
    {
     "data": {
      "text/plain": [
       "3808256046"
      ]
     },
     "execution_count": 25,
     "metadata": {},
     "output_type": "execute_result"
    },
    {
     "data": {
      "image/png": "[encoded data removed]",
      "text/plain": [
       "<Figure size 432x288 with 1 Axes>"
      ]
     },
     "metadata": {
      "needs_background": "light"
     },
     "output_type": "display_data"
    }
   ],
   "source": [
    "data.boxplot('price')\n",
    "data.price.max()"
   ]
  },
  {
   "cell_type": "code",
   "execution_count": 26,
   "metadata": {},
   "outputs": [
    {
     "data": {
      "text/plain": [
       "10000000.0"
      ]
     },
     "execution_count": 26,
     "metadata": {},
     "output_type": "execute_result"
    },
    {
     "data": {
      "image/png": "[encoded data removed]",
      "text/plain": [
       "<Figure size 432x288 with 1 Axes>"
      ]
     },
     "metadata": {
      "needs_background": "light"
     },
     "output_type": "display_data"
    }
   ],
   "source": [
    "data.boxplot('odometer')\n",
    "data.odometer.max()"
   ]
  },
  {
   "cell_type": "code",
   "execution_count": 27,
   "metadata": {},
   "outputs": [],
   "source": [
    "data_outliers = data[(data.price < data.price.quantile(.995)) & (data.price > data.price.quantile(.1))]\n",
    "data_outliers = data_outliers[(data_outliers.odometer < data_outliers.odometer.quantile(.995)) & (data_outliers.odometer > data_outliers.odometer.quantile(.1))]"
   ]
  },
  {
   "cell_type": "code",
   "execution_count": 28,
   "metadata": {},
   "outputs": [
    {
     "data": {
      "text/plain": [
       "array([[<matplotlib.axes._subplots.AxesSubplot object at 0x000002D7DA4D9C40>,\n",
       "        <matplotlib.axes._subplots.AxesSubplot object at 0x000002D7DA4DF070>],\n",
       "       [<matplotlib.axes._subplots.AxesSubplot object at 0x000002D7EA29E460>,\n",
       "        <matplotlib.axes._subplots.AxesSubplot object at 0x000002D7DA490790>]],\n",
       "      dtype=object)"
      ]
     },
     "execution_count": 28,
     "metadata": {},
     "output_type": "execute_result"
    },
    {
     "data": {
      "image/png": "[encoded data removed]",
      "text/plain": [
       "<Figure size 432x288 with 4 Axes>"
      ]
     },
     "metadata": {
      "needs_background": "light"
     },
     "output_type": "display_data"
    }
   ],
   "source": [
    "data_outliers[['price','odometer','cylinders','text_len']].hist()"
   ]
  },
  {
   "cell_type": "code",
   "execution_count": 29,
   "metadata": {
    "scrolled": false
   },
   "outputs": [
    {
     "data": {
      "text/plain": [
       "id              0.000000\n",
       "url             0.000000\n",
       "region          0.000000\n",
       "region_url      0.000000\n",
       "price           0.000000\n",
       "year            0.002131\n",
       "manufacturer    0.035755\n",
       "model           0.007303\n",
       "condition       0.410475\n",
       "cylinders       0.329791\n",
       "fuel            0.007623\n",
       "odometer        0.000000\n",
       "title_status    0.005926\n",
       "transmission    0.003937\n",
       "vin             0.361216\n",
       "drive           0.225712\n",
       "size            0.653079\n",
       "type            0.187072\n",
       "paint_color     0.240972\n",
       "image_url       0.000000\n",
       "description     0.000027\n",
       "county          1.000000\n",
       "state           0.000000\n",
       "lat             0.007294\n",
       "long            0.007294\n",
       "text_len        0.000000\n",
       "dtype: float64"
      ]
     },
     "execution_count": 29,
     "metadata": {},
     "output_type": "execute_result"
    }
   ],
   "source": [
    "data_outliers.isnull().sum()/data_outliers.shape[0]"
   ]
  },
  {
   "cell_type": "code",
   "execution_count": 30,
   "metadata": {},
   "outputs": [
    {
     "data": {
      "text/plain": [
       "id              0.000000\n",
       "url             0.000000\n",
       "region          0.000000\n",
       "region_url      0.000000\n",
       "price           0.000000\n",
       "year            0.000000\n",
       "manufacturer    0.000000\n",
       "model           0.000000\n",
       "condition       0.405587\n",
       "cylinders       0.327485\n",
       "fuel            0.000000\n",
       "odometer        0.000000\n",
       "title_status    0.000000\n",
       "transmission    0.000000\n",
       "vin             0.360829\n",
       "drive           0.224543\n",
       "size            0.651826\n",
       "type            0.186766\n",
       "paint_color     0.241021\n",
       "image_url       0.000000\n",
       "description     0.000029\n",
       "county          1.000000\n",
       "state           0.000000\n",
       "lat             0.007306\n",
       "long            0.007306\n",
       "text_len        0.000000\n",
       "dtype: float64"
      ]
     },
     "execution_count": 30,
     "metadata": {},
     "output_type": "execute_result"
    }
   ],
   "source": [
    "data_outliers.dropna(subset=['year','manufacturer','model','title_status','fuel','transmission'],inplace=True)\n",
    "data_outliers.isnull().sum()/data_outliers.shape[0]"
   ]
  },
  {
   "cell_type": "code",
   "execution_count": 31,
   "metadata": {},
   "outputs": [
    {
     "data": {
      "text/plain": [
       "id              0.000000\n",
       "url             0.000000\n",
       "region          0.000000\n",
       "region_url      0.000000\n",
       "price           0.000000\n",
       "year            0.000000\n",
       "manufacturer    0.000000\n",
       "model           0.000000\n",
       "condition       0.405587\n",
       "cylinders       0.000000\n",
       "fuel            0.000000\n",
       "odometer        0.000000\n",
       "title_status    0.000000\n",
       "transmission    0.000000\n",
       "vin             0.360829\n",
       "drive           0.224543\n",
       "size            0.651826\n",
       "type            0.186766\n",
       "paint_color     0.241021\n",
       "image_url       0.000000\n",
       "description     0.000029\n",
       "county          1.000000\n",
       "state           0.000000\n",
       "lat             0.007306\n",
       "long            0.007306\n",
       "text_len        0.000000\n",
       "dtype: float64"
      ]
     },
     "execution_count": 31,
     "metadata": {},
     "output_type": "execute_result"
    }
   ],
   "source": [
    "data_outliers.cylinders.fillna(data_outliers.cylinders.median(),inplace=True)\n",
    "data_outliers.isnull().sum()/data_outliers.shape[0]"
   ]
  },
  {
   "cell_type": "code",
   "execution_count": 32,
   "metadata": {},
   "outputs": [
    {
     "data": {
      "text/plain": [
       "id              0.000000\n",
       "url             0.000000\n",
       "region          0.000000\n",
       "region_url      0.000000\n",
       "price           0.000000\n",
       "year            0.000000\n",
       "manufacturer    0.000000\n",
       "model           0.000000\n",
       "condition       0.000000\n",
       "cylinders       0.000000\n",
       "fuel            0.000000\n",
       "odometer        0.000000\n",
       "title_status    0.000000\n",
       "transmission    0.000000\n",
       "vin             0.000000\n",
       "drive           0.000000\n",
       "size            0.651826\n",
       "type            0.000000\n",
       "paint_color     0.000000\n",
       "image_url       0.000000\n",
       "description     0.000029\n",
       "county          1.000000\n",
       "state           0.000000\n",
       "lat             0.007306\n",
       "long            0.007306\n",
       "text_len        0.000000\n",
       "dtype: float64"
      ]
     },
     "execution_count": 32,
     "metadata": {},
     "output_type": "execute_result"
    }
   ],
   "source": [
    "data_outliers[['condition','vin','drive','type','paint_color']]=data_outliers[['condition','vin','drive','type','paint_color']].fillna('n/a')\n",
    "data_outliers.isnull().sum()/data_outliers.shape[0]"
   ]
  },
  {
   "cell_type": "code",
   "execution_count": 33,
   "metadata": {},
   "outputs": [],
   "source": [
    "data_outliers.vin=data_outliers.vin.apply(lambda x:'has vin' if x!='n/a' else 'no_vin')"
   ]
  },
  {
   "cell_type": "code",
   "execution_count": 34,
   "metadata": {},
   "outputs": [],
   "source": [
    "data_final = data_outliers.drop(['id','url','region','region_url','image_url','lat','long','size','description','county'],axis=1)\n",
    "data_final['constant'] = 1\n",
    "data_final['age'] = 2020 - data_final['year']"
   ]
  },
  {
   "cell_type": "code",
   "execution_count": 35,
   "metadata": {},
   "outputs": [
    {
     "data": {
      "text/plain": [
       "price           False\n",
       "year            False\n",
       "manufacturer    False\n",
       "model           False\n",
       "condition       False\n",
       "cylinders       False\n",
       "fuel            False\n",
       "odometer        False\n",
       "title_status    False\n",
       "transmission    False\n",
       "vin             False\n",
       "drive           False\n",
       "type            False\n",
       "paint_color     False\n",
       "state           False\n",
       "text_len        False\n",
       "constant        False\n",
       "age             False\n",
       "dtype: bool"
      ]
     },
     "execution_count": 35,
     "metadata": {},
     "output_type": "execute_result"
    }
   ],
   "source": [
    "data_final.isnull().any()"
   ]
  },
  {
   "cell_type": "code",
   "execution_count": 36,
   "metadata": {},
   "outputs": [
    {
     "data": {
      "image/png": "[encoded data removed]",
      "text/plain": [
       "<Figure size 432x288 with 2 Axes>"
      ]
     },
     "metadata": {
      "needs_background": "light"
     },
     "output_type": "display_data"
    }
   ],
   "source": [
    "numeric = data_final._get_numeric_data()\n",
    "\n",
    "import seaborn as sns\n",
    "\n",
    "corrdata = numeric\n",
    "\n",
    "corr = corrdata.corr()\n",
    "ax = sns.heatmap(\n",
    "    corr, \n",
    "    vmin=-1, vmax=1, center=0,\n",
    "    cmap=sns.diverging_palette(20, 220, n=200),\n",
    "    square=True\n",
    ")\n",
    "ax.set_xticklabels(\n",
    "    ax.get_xticklabels(),\n",
    "    rotation=45,\n",
    "    horizontalalignment='right'\n",
    ");"
   ]
  },
  {
   "cell_type": "code",
   "execution_count": 37,
   "metadata": {},
   "outputs": [],
   "source": [
    "#Linear Regressiong using sklearn\n",
    "from sklearn.model_selection import train_test_split\n",
    "from sklearn.linear_model import LinearRegression\n",
    "from sklearn.metrics import mean_squared_error, mean_absolute_error\n",
    "import math"
   ]
  },
  {
   "cell_type": "code",
   "execution_count": 44,
   "metadata": {},
   "outputs": [],
   "source": [
    "X1 = data_final.odometer.to_numpy() # Converting pandas series to numpy arrays\n",
    "X1 = X1.reshape(-1,1)\n",
    "y1 = data_final.price.to_numpy()\n",
    "y1 = y1.reshape(-1,1)"
   ]
  },
  {
   "cell_type": "code",
   "execution_count": 49,
   "metadata": {},
   "outputs": [],
   "source": [
    "#Create test / train split for validation\n",
    "X_train1, X_test1, y_train1, y_test1 = train_test_split(X1,y1,test_size = 0.3 , random_state = 0)"
   ]
  },
  {
   "cell_type": "code",
   "execution_count": 51,
   "metadata": {},
   "outputs": [
    {
     "data": {
      "text/plain": [
       "0.2565671747487197"
      ]
     },
     "execution_count": 51,
     "metadata": {},
     "output_type": "execute_result"
    }
   ],
   "source": [
    "reg = LinearRegression().fit(X_train1, y_train1)\n",
    "reg.score(X_train1, y_train1)"
   ]
  },
  {
   "cell_type": "code",
   "execution_count": 54,
   "metadata": {},
   "outputs": [
    {
     "data": {
      "text/plain": [
       "array([[-0.09667439]])"
      ]
     },
     "execution_count": 54,
     "metadata": {},
     "output_type": "execute_result"
    }
   ],
   "source": [
    "reg.coef_"
   ]
  },
  {
   "cell_type": "code",
   "execution_count": 55,
   "metadata": {},
   "outputs": [],
   "source": [
    "y_hat1 = reg.predict(X_train1)"
   ]
  },
  {
   "cell_type": "code",
   "execution_count": 60,
   "metadata": {},
   "outputs": [
    {
     "data": {
      "image/png": "[encoded data removed]",
      "text/plain": [
       "<Figure size 432x288 with 1 Axes>"
      ]
     },
     "metadata": {
      "needs_background": "light"
     },
     "output_type": "display_data"
    }
   ],
   "source": [
    "plt.scatter(X_train1,y_train1)\n",
    "plt.scatter(X_train1,y_hat1)\n",
    "plt.show()"
   ]
  },
  {
   "cell_type": "code",
   "execution_count": 62,
   "metadata": {},
   "outputs": [
    {
     "data": {
      "image/png": "[encoded data removed]",
      "text/plain": [
       "<Figure size 432x288 with 1 Axes>"
      ]
     },
     "metadata": {
      "needs_background": "light"
     },
     "output_type": "display_data"
    }
   ],
   "source": [
    "y_hat_test = reg.predict(X_test1)\n",
    "plt.scatter(X_test1,y_test1)\n",
    "plt.scatter(X_test1,y_hat_test)\n",
    "plt.show()"
   ]
  },
  {
   "cell_type": "code",
   "execution_count": 67,
   "metadata": {},
   "outputs": [
    {
     "name": "stdout",
     "output_type": "stream",
     "text": [
      "Mean Absolute Error =  6882.772887569676\n",
      "Root mean square error =  9358.50765222222\n"
     ]
    }
   ],
   "source": [
    "mae = mean_absolute_error(y_hat_test,y_test1)\n",
    "rmse = math.sqrt(mean_squared_error(y_hat_test,y_test1))\n",
    "print(\"Mean Absolute Error = \",mae)\n",
    "print(\"Root mean square error = \",rmse)"
   ]
  },
  {
   "cell_type": "code",
   "execution_count": 69,
   "metadata": {},
   "outputs": [
    {
     "data": {
      "text/html": [
       "<table class=\"simpletable\">\n",
       "<caption>OLS Regression Results</caption>\n",
       "<tr>\n",
       "  <th>Dep. Variable:</th>            <td>y</td>        <th>  R-squared:         </th>  <td>   0.257</td>  \n",
       "</tr>\n",
       "<tr>\n",
       "  <th>Model:</th>                   <td>OLS</td>       <th>  Adj. R-squared:    </th>  <td>   0.257</td>  \n",
       "</tr>\n",
       "<tr>\n",
       "  <th>Method:</th>             <td>Least Squares</td>  <th>  F-statistic:       </th>  <td>4.986e+04</td> \n",
       "</tr>\n",
       "<tr>\n",
       "  <th>Date:</th>             <td>Mon, 12 Oct 2020</td> <th>  Prob (F-statistic):</th>   <td>  0.00</td>   \n",
       "</tr>\n",
       "<tr>\n",
       "  <th>Time:</th>                 <td>17:28:09</td>     <th>  Log-Likelihood:    </th> <td>-1.5254e+06</td>\n",
       "</tr>\n",
       "<tr>\n",
       "  <th>No. Observations:</th>      <td>144477</td>      <th>  AIC:               </th>  <td>3.051e+06</td> \n",
       "</tr>\n",
       "<tr>\n",
       "  <th>Df Residuals:</th>          <td>144475</td>      <th>  BIC:               </th>  <td>3.051e+06</td> \n",
       "</tr>\n",
       "<tr>\n",
       "  <th>Df Model:</th>              <td>     1</td>      <th>                     </th>      <td> </td>     \n",
       "</tr>\n",
       "<tr>\n",
       "  <th>Covariance Type:</th>      <td>nonrobust</td>    <th>                     </th>      <td> </td>     \n",
       "</tr>\n",
       "</table>\n",
       "<table class=\"simpletable\">\n",
       "<tr>\n",
       "      <td></td>        <th>coef</th>     <th>std err</th>      <th>t</th>      <th>P>|t|</th>  <th>[0.025</th>    <th>0.975]</th>  \n",
       "</tr>\n",
       "<tr>\n",
       "  <th>constant</th> <td> 2.485e+04</td> <td>   52.737</td> <td>  471.156</td> <td> 0.000</td> <td> 2.47e+04</td> <td>  2.5e+04</td>\n",
       "</tr>\n",
       "<tr>\n",
       "  <th>odometer</th> <td>   -0.0967</td> <td>    0.000</td> <td> -223.293</td> <td> 0.000</td> <td>   -0.098</td> <td>   -0.096</td>\n",
       "</tr>\n",
       "</table>\n",
       "<table class=\"simpletable\">\n",
       "<tr>\n",
       "  <th>Omnibus:</th>       <td>40990.069</td> <th>  Durbin-Watson:     </th>  <td>   1.997</td> \n",
       "</tr>\n",
       "<tr>\n",
       "  <th>Prob(Omnibus):</th>  <td> 0.000</td>   <th>  Jarque-Bera (JB):  </th> <td>116360.909</td>\n",
       "</tr>\n",
       "<tr>\n",
       "  <th>Skew:</th>           <td> 1.504</td>   <th>  Prob(JB):          </th>  <td>    0.00</td> \n",
       "</tr>\n",
       "<tr>\n",
       "  <th>Kurtosis:</th>       <td> 6.207</td>   <th>  Cond. No.          </th>  <td>2.62e+05</td> \n",
       "</tr>\n",
       "</table><br/><br/>Notes:<br/>[1] Standard Errors assume that the covariance matrix of the errors is correctly specified.<br/>[2] The condition number is large, 2.62e+05. This might indicate that there are<br/>strong multicollinearity or other numerical problems."
      ],
      "text/plain": [
       "<class 'statsmodels.iolib.summary.Summary'>\n",
       "\"\"\"\n",
       "                            OLS Regression Results                            \n",
       "==============================================================================\n",
       "Dep. Variable:                      y   R-squared:                       0.257\n",
       "Model:                            OLS   Adj. R-squared:                  0.257\n",
       "Method:                 Least Squares   F-statistic:                 4.986e+04\n",
       "Date:                Mon, 12 Oct 2020   Prob (F-statistic):               0.00\n",
       "Time:                        17:28:09   Log-Likelihood:            -1.5254e+06\n",
       "No. Observations:              144477   AIC:                         3.051e+06\n",
       "Df Residuals:                  144475   BIC:                         3.051e+06\n",
       "Df Model:                           1                                         \n",
       "Covariance Type:            nonrobust                                         \n",
       "==============================================================================\n",
       "                 coef    std err          t      P>|t|      [0.025      0.975]\n",
       "------------------------------------------------------------------------------\n",
       "constant    2.485e+04     52.737    471.156      0.000    2.47e+04     2.5e+04\n",
       "odometer      -0.0967      0.000   -223.293      0.000      -0.098      -0.096\n",
       "==============================================================================\n",
       "Omnibus:                    40990.069   Durbin-Watson:                   1.997\n",
       "Prob(Omnibus):                  0.000   Jarque-Bera (JB):           116360.909\n",
       "Skew:                           1.504   Prob(JB):                         0.00\n",
       "Kurtosis:                       6.207   Cond. No.                     2.62e+05\n",
       "==============================================================================\n",
       "\n",
       "Notes:\n",
       "[1] Standard Errors assume that the covariance matrix of the errors is correctly specified.\n",
       "[2] The condition number is large, 2.62e+05. This might indicate that there are\n",
       "strong multicollinearity or other numerical problems.\n",
       "\"\"\""
      ]
     },
     "execution_count": 69,
     "metadata": {},
     "output_type": "execute_result"
    }
   ],
   "source": [
    "import statsmodels.api as sm\n",
    "\n",
    "X1b = data_final[['constant','odometer']]\n",
    "y1b = data_final.price.values\n",
    "\n",
    "X_train1b, X_test1b, y_train1b, y_test1b = train_test_split(X1b, y1b, test_size=0.3, random_state=0)\n",
    "\n",
    "reg_sm1b = sm.OLS(y_train1b, X_train1b).fit()\n",
    "reg_sm1b.summary()"
   ]
  },
  {
   "cell_type": "code",
   "execution_count": 71,
   "metadata": {},
   "outputs": [
    {
     "data": {
      "text/html": [
       "<table class=\"simpletable\">\n",
       "<caption>OLS Regression Results</caption>\n",
       "<tr>\n",
       "  <th>Dep. Variable:</th>            <td>y</td>        <th>  R-squared:         </th>  <td>   0.446</td>  \n",
       "</tr>\n",
       "<tr>\n",
       "  <th>Model:</th>                   <td>OLS</td>       <th>  Adj. R-squared:    </th>  <td>   0.446</td>  \n",
       "</tr>\n",
       "<tr>\n",
       "  <th>Method:</th>             <td>Least Squares</td>  <th>  F-statistic:       </th>  <td>2.912e+04</td> \n",
       "</tr>\n",
       "<tr>\n",
       "  <th>Date:</th>             <td>Mon, 12 Oct 2020</td> <th>  Prob (F-statistic):</th>   <td>  0.00</td>   \n",
       "</tr>\n",
       "<tr>\n",
       "  <th>Time:</th>                 <td>17:36:15</td>     <th>  Log-Likelihood:    </th> <td>-1.5041e+06</td>\n",
       "</tr>\n",
       "<tr>\n",
       "  <th>No. Observations:</th>      <td>144477</td>      <th>  AIC:               </th>  <td>3.008e+06</td> \n",
       "</tr>\n",
       "<tr>\n",
       "  <th>Df Residuals:</th>          <td>144472</td>      <th>  BIC:               </th>  <td>3.008e+06</td> \n",
       "</tr>\n",
       "<tr>\n",
       "  <th>Df Model:</th>              <td>     4</td>      <th>                     </th>      <td> </td>     \n",
       "</tr>\n",
       "<tr>\n",
       "  <th>Covariance Type:</th>      <td>nonrobust</td>    <th>                     </th>      <td> </td>     \n",
       "</tr>\n",
       "</table>\n",
       "<table class=\"simpletable\">\n",
       "<tr>\n",
       "      <td></td>         <th>coef</th>     <th>std err</th>      <th>t</th>      <th>P>|t|</th>  <th>[0.025</th>    <th>0.975]</th>  \n",
       "</tr>\n",
       "<tr>\n",
       "  <th>constant</th>  <td> 8885.8163</td> <td>  105.034</td> <td>   84.599</td> <td> 0.000</td> <td> 8679.951</td> <td> 9091.682</td>\n",
       "</tr>\n",
       "<tr>\n",
       "  <th>age</th>       <td> -461.1976</td> <td>    3.440</td> <td> -134.082</td> <td> 0.000</td> <td> -467.939</td> <td> -454.456</td>\n",
       "</tr>\n",
       "<tr>\n",
       "  <th>odometer</th>  <td>   -0.0740</td> <td>    0.000</td> <td> -175.631</td> <td> 0.000</td> <td>   -0.075</td> <td>   -0.073</td>\n",
       "</tr>\n",
       "<tr>\n",
       "  <th>cylinders</th> <td> 2867.9934</td> <td>   16.434</td> <td>  174.521</td> <td> 0.000</td> <td> 2835.784</td> <td> 2900.203</td>\n",
       "</tr>\n",
       "<tr>\n",
       "  <th>text_len</th>  <td>    0.3911</td> <td>    0.007</td> <td>   52.467</td> <td> 0.000</td> <td>    0.376</td> <td>    0.406</td>\n",
       "</tr>\n",
       "</table>\n",
       "<table class=\"simpletable\">\n",
       "<tr>\n",
       "  <th>Omnibus:</th>       <td>48677.471</td> <th>  Durbin-Watson:     </th>  <td>   1.997</td> \n",
       "</tr>\n",
       "<tr>\n",
       "  <th>Prob(Omnibus):</th>  <td> 0.000</td>   <th>  Jarque-Bera (JB):  </th> <td>222008.532</td>\n",
       "</tr>\n",
       "<tr>\n",
       "  <th>Skew:</th>           <td> 1.593</td>   <th>  Prob(JB):          </th>  <td>    0.00</td> \n",
       "</tr>\n",
       "<tr>\n",
       "  <th>Kurtosis:</th>       <td> 8.170</td>   <th>  Cond. No.          </th>  <td>6.10e+05</td> \n",
       "</tr>\n",
       "</table><br/><br/>Notes:<br/>[1] Standard Errors assume that the covariance matrix of the errors is correctly specified.<br/>[2] The condition number is large, 6.1e+05. This might indicate that there are<br/>strong multicollinearity or other numerical problems."
      ],
      "text/plain": [
       "<class 'statsmodels.iolib.summary.Summary'>\n",
       "\"\"\"\n",
       "                            OLS Regression Results                            \n",
       "==============================================================================\n",
       "Dep. Variable:                      y   R-squared:                       0.446\n",
       "Model:                            OLS   Adj. R-squared:                  0.446\n",
       "Method:                 Least Squares   F-statistic:                 2.912e+04\n",
       "Date:                Mon, 12 Oct 2020   Prob (F-statistic):               0.00\n",
       "Time:                        17:36:15   Log-Likelihood:            -1.5041e+06\n",
       "No. Observations:              144477   AIC:                         3.008e+06\n",
       "Df Residuals:                  144472   BIC:                         3.008e+06\n",
       "Df Model:                           4                                         \n",
       "Covariance Type:            nonrobust                                         \n",
       "==============================================================================\n",
       "                 coef    std err          t      P>|t|      [0.025      0.975]\n",
       "------------------------------------------------------------------------------\n",
       "constant    8885.8163    105.034     84.599      0.000    8679.951    9091.682\n",
       "age         -461.1976      3.440   -134.082      0.000    -467.939    -454.456\n",
       "odometer      -0.0740      0.000   -175.631      0.000      -0.075      -0.073\n",
       "cylinders   2867.9934     16.434    174.521      0.000    2835.784    2900.203\n",
       "text_len       0.3911      0.007     52.467      0.000       0.376       0.406\n",
       "==============================================================================\n",
       "Omnibus:                    48677.471   Durbin-Watson:                   1.997\n",
       "Prob(Omnibus):                  0.000   Jarque-Bera (JB):           222008.532\n",
       "Skew:                           1.593   Prob(JB):                         0.00\n",
       "Kurtosis:                       8.170   Cond. No.                     6.10e+05\n",
       "==============================================================================\n",
       "\n",
       "Notes:\n",
       "[1] Standard Errors assume that the covariance matrix of the errors is correctly specified.\n",
       "[2] The condition number is large, 6.1e+05. This might indicate that there are\n",
       "strong multicollinearity or other numerical problems.\n",
       "\"\"\""
      ]
     },
     "execution_count": 71,
     "metadata": {},
     "output_type": "execute_result"
    }
   ],
   "source": [
    "#multiple linear regression \n",
    "from statsmodels.stats.outliers_influence import variance_inflation_factor\n",
    "\n",
    "X2 = data_final[['constant','age','odometer','cylinders','text_len']]\n",
    "y2 = data_final.price.values\n",
    "\n",
    "X_train2, X_test2, y_train2, y_test2 = train_test_split(X2, y2, test_size=0.3, random_state=0)\n",
    "\n",
    "reg_sm2 = sm.OLS(y_train2, X_train2).fit()\n",
    "reg_sm2.summary()"
   ]
  },
  {
   "cell_type": "code",
   "execution_count": 73,
   "metadata": {},
   "outputs": [
    {
     "data": {
      "text/plain": [
       "constant     24.684132\n",
       "age           1.317538\n",
       "odometer      1.271472\n",
       "cylinders     1.037215\n",
       "text_len      1.106185\n",
       "dtype: float64"
      ]
     },
     "execution_count": 73,
     "metadata": {},
     "output_type": "execute_result"
    }
   ],
   "source": [
    "pd.Series([variance_inflation_factor(X2.values,i) for i in range(X2.shape[1])],index=X2.columns)"
   ]
  },
  {
   "cell_type": "code",
   "execution_count": 76,
   "metadata": {},
   "outputs": [
    {
     "data": {
      "text/html": [
       "<table class=\"simpletable\">\n",
       "<caption>OLS Regression Results</caption>\n",
       "<tr>\n",
       "  <th>Dep. Variable:</th>            <td>y</td>        <th>  R-squared:         </th>  <td>   0.584</td>  \n",
       "</tr>\n",
       "<tr>\n",
       "  <th>Model:</th>                   <td>OLS</td>       <th>  Adj. R-squared:    </th>  <td>   0.584</td>  \n",
       "</tr>\n",
       "<tr>\n",
       "  <th>Method:</th>             <td>Least Squares</td>  <th>  F-statistic:       </th>  <td>   7250.</td>  \n",
       "</tr>\n",
       "<tr>\n",
       "  <th>Date:</th>             <td>Mon, 12 Oct 2020</td> <th>  Prob (F-statistic):</th>   <td>  0.00</td>   \n",
       "</tr>\n",
       "<tr>\n",
       "  <th>Time:</th>                 <td>18:15:33</td>     <th>  Log-Likelihood:    </th> <td>-1.4834e+06</td>\n",
       "</tr>\n",
       "<tr>\n",
       "  <th>No. Observations:</th>      <td>144477</td>      <th>  AIC:               </th>  <td>2.967e+06</td> \n",
       "</tr>\n",
       "<tr>\n",
       "  <th>Df Residuals:</th>          <td>144448</td>      <th>  BIC:               </th>  <td>2.967e+06</td> \n",
       "</tr>\n",
       "<tr>\n",
       "  <th>Df Model:</th>              <td>    28</td>      <th>                     </th>      <td> </td>     \n",
       "</tr>\n",
       "<tr>\n",
       "  <th>Covariance Type:</th>      <td>nonrobust</td>    <th>                     </th>      <td> </td>     \n",
       "</tr>\n",
       "</table>\n",
       "<table class=\"simpletable\">\n",
       "<tr>\n",
       "           <td></td>              <th>coef</th>     <th>std err</th>      <th>t</th>      <th>P>|t|</th>  <th>[0.025</th>    <th>0.975]</th>  \n",
       "</tr>\n",
       "<tr>\n",
       "  <th>constant</th>            <td> 1.036e+04</td> <td>   95.704</td> <td>  108.206</td> <td> 0.000</td> <td> 1.02e+04</td> <td> 1.05e+04</td>\n",
       "</tr>\n",
       "<tr>\n",
       "  <th>age</th>                 <td> -382.8583</td> <td>    3.176</td> <td> -120.540</td> <td> 0.000</td> <td> -389.084</td> <td> -376.633</td>\n",
       "</tr>\n",
       "<tr>\n",
       "  <th>odometer</th>            <td>   -0.0812</td> <td>    0.000</td> <td> -213.717</td> <td> 0.000</td> <td>   -0.082</td> <td>   -0.080</td>\n",
       "</tr>\n",
       "<tr>\n",
       "  <th>text_len</th>            <td>    0.2562</td> <td>    0.007</td> <td>   37.543</td> <td> 0.000</td> <td>    0.243</td> <td>    0.270</td>\n",
       "</tr>\n",
       "<tr>\n",
       "  <th>cylinders</th>           <td> 1551.0806</td> <td>   16.353</td> <td>   94.852</td> <td> 0.000</td> <td> 1519.030</td> <td> 1583.132</td>\n",
       "</tr>\n",
       "<tr>\n",
       "  <th>condition_excellent</th> <td> 1669.4233</td> <td>  105.526</td> <td>   15.820</td> <td> 0.000</td> <td> 1462.594</td> <td> 1876.252</td>\n",
       "</tr>\n",
       "<tr>\n",
       "  <th>condition_fair</th>      <td>  388.3040</td> <td>  151.535</td> <td>    2.562</td> <td> 0.010</td> <td>   91.299</td> <td>  685.310</td>\n",
       "</tr>\n",
       "<tr>\n",
       "  <th>condition_good</th>      <td>  830.5399</td> <td>  106.806</td> <td>    7.776</td> <td> 0.000</td> <td>  621.202</td> <td> 1039.878</td>\n",
       "</tr>\n",
       "<tr>\n",
       "  <th>condition_like new</th>  <td> 2378.2983</td> <td>  122.673</td> <td>   19.387</td> <td> 0.000</td> <td> 2137.861</td> <td> 2618.736</td>\n",
       "</tr>\n",
       "<tr>\n",
       "  <th>condition_n/a</th>       <td> 2802.6369</td> <td>  106.125</td> <td>   26.409</td> <td> 0.000</td> <td> 2594.633</td> <td> 3010.641</td>\n",
       "</tr>\n",
       "<tr>\n",
       "  <th>condition_new</th>       <td> 4037.9248</td> <td>  476.102</td> <td>    8.481</td> <td> 0.000</td> <td> 3104.774</td> <td> 4971.076</td>\n",
       "</tr>\n",
       "<tr>\n",
       "  <th>condition_salvage</th>   <td>-1751.4405</td> <td>  447.665</td> <td>   -3.912</td> <td> 0.000</td> <td>-2628.855</td> <td> -874.026</td>\n",
       "</tr>\n",
       "<tr>\n",
       "  <th>fuel_diesel</th>         <td> 8481.4149</td> <td>  101.804</td> <td>   83.311</td> <td> 0.000</td> <td> 8281.882</td> <td> 8680.948</td>\n",
       "</tr>\n",
       "<tr>\n",
       "  <th>fuel_electric</th>       <td> 2746.6901</td> <td>  305.866</td> <td>    8.980</td> <td> 0.000</td> <td> 2147.199</td> <td> 3346.181</td>\n",
       "</tr>\n",
       "<tr>\n",
       "  <th>fuel_gas</th>            <td>-1225.2406</td> <td>   80.097</td> <td>  -15.297</td> <td> 0.000</td> <td>-1382.230</td> <td>-1068.251</td>\n",
       "</tr>\n",
       "<tr>\n",
       "  <th>fuel_hybrid</th>         <td> -720.2102</td> <td>  150.913</td> <td>   -4.772</td> <td> 0.000</td> <td>-1015.996</td> <td> -424.425</td>\n",
       "</tr>\n",
       "<tr>\n",
       "  <th>fuel_other</th>          <td> 1073.0324</td> <td>  114.891</td> <td>    9.340</td> <td> 0.000</td> <td>  847.849</td> <td> 1298.216</td>\n",
       "</tr>\n",
       "<tr>\n",
       "  <th>vin_has vin</th>         <td> 5583.0321</td> <td>   52.476</td> <td>  106.393</td> <td> 0.000</td> <td> 5480.181</td> <td> 5685.884</td>\n",
       "</tr>\n",
       "<tr>\n",
       "  <th>vin_no_vin</th>          <td> 4772.6546</td> <td>   52.335</td> <td>   91.194</td> <td> 0.000</td> <td> 4670.079</td> <td> 4875.230</td>\n",
       "</tr>\n",
       "<tr>\n",
       "  <th>type_SUV</th>            <td>  238.0259</td> <td>   72.554</td> <td>    3.281</td> <td> 0.001</td> <td>   95.821</td> <td>  380.231</td>\n",
       "</tr>\n",
       "<tr>\n",
       "  <th>type_bus</th>            <td> 2261.4759</td> <td>  632.646</td> <td>    3.575</td> <td> 0.000</td> <td> 1021.502</td> <td> 3501.450</td>\n",
       "</tr>\n",
       "<tr>\n",
       "  <th>type_convertible</th>    <td>  918.4272</td> <td>  146.218</td> <td>    6.281</td> <td> 0.000</td> <td>  631.842</td> <td> 1205.012</td>\n",
       "</tr>\n",
       "<tr>\n",
       "  <th>type_coupe</th>          <td>  827.4322</td> <td>  108.296</td> <td>    7.640</td> <td> 0.000</td> <td>  615.173</td> <td> 1039.691</td>\n",
       "</tr>\n",
       "<tr>\n",
       "  <th>type_hatchback</th>      <td>-3642.0408</td> <td>  115.501</td> <td>  -31.533</td> <td> 0.000</td> <td>-3868.420</td> <td>-3415.661</td>\n",
       "</tr>\n",
       "<tr>\n",
       "  <th>type_mini-van</th>       <td>-2501.9248</td> <td>  135.931</td> <td>  -18.406</td> <td> 0.000</td> <td>-2768.347</td> <td>-2235.502</td>\n",
       "</tr>\n",
       "<tr>\n",
       "  <th>type_n/a</th>            <td> -331.8684</td> <td>   74.630</td> <td>   -4.447</td> <td> 0.000</td> <td> -478.142</td> <td> -185.595</td>\n",
       "</tr>\n",
       "<tr>\n",
       "  <th>type_offroad</th>        <td> 7378.6672</td> <td>  459.848</td> <td>   16.046</td> <td> 0.000</td> <td> 6477.374</td> <td> 8279.961</td>\n",
       "</tr>\n",
       "<tr>\n",
       "  <th>type_other</th>          <td>  724.9297</td> <td>  107.103</td> <td>    6.769</td> <td> 0.000</td> <td>  515.011</td> <td>  934.849</td>\n",
       "</tr>\n",
       "<tr>\n",
       "  <th>type_pickup</th>         <td> 6193.0320</td> <td>   88.426</td> <td>   70.036</td> <td> 0.000</td> <td> 6019.718</td> <td> 6366.346</td>\n",
       "</tr>\n",
       "<tr>\n",
       "  <th>type_sedan</th>          <td>-3354.8049</td> <td>   72.542</td> <td>  -46.246</td> <td> 0.000</td> <td>-3496.986</td> <td>-3212.624</td>\n",
       "</tr>\n",
       "<tr>\n",
       "  <th>type_truck</th>          <td> 4865.2196</td> <td>   90.320</td> <td>   53.867</td> <td> 0.000</td> <td> 4688.195</td> <td> 5042.244</td>\n",
       "</tr>\n",
       "<tr>\n",
       "  <th>type_van</th>            <td>-1472.8861</td> <td>  124.041</td> <td>  -11.874</td> <td> 0.000</td> <td>-1716.003</td> <td>-1229.769</td>\n",
       "</tr>\n",
       "<tr>\n",
       "  <th>type_wagon</th>          <td>-1747.9979</td> <td>  115.910</td> <td>  -15.081</td> <td> 0.000</td> <td>-1975.179</td> <td>-1520.817</td>\n",
       "</tr>\n",
       "</table>\n",
       "<table class=\"simpletable\">\n",
       "<tr>\n",
       "  <th>Omnibus:</th>       <td>41180.745</td> <th>  Durbin-Watson:     </th>  <td>   2.002</td> \n",
       "</tr>\n",
       "<tr>\n",
       "  <th>Prob(Omnibus):</th>  <td> 0.000</td>   <th>  Jarque-Bera (JB):  </th> <td>252190.089</td>\n",
       "</tr>\n",
       "<tr>\n",
       "  <th>Skew:</th>           <td> 1.232</td>   <th>  Prob(JB):          </th>  <td>    0.00</td> \n",
       "</tr>\n",
       "<tr>\n",
       "  <th>Kurtosis:</th>       <td> 8.985</td>   <th>  Cond. No.          </th>  <td>1.91e+16</td> \n",
       "</tr>\n",
       "</table><br/><br/>Notes:<br/>[1] Standard Errors assume that the covariance matrix of the errors is correctly specified.<br/>[2] The smallest eigenvalue is 5.85e-18. This might indicate that there are<br/>strong multicollinearity problems or that the design matrix is singular."
      ],
      "text/plain": [
       "<class 'statsmodels.iolib.summary.Summary'>\n",
       "\"\"\"\n",
       "                            OLS Regression Results                            \n",
       "==============================================================================\n",
       "Dep. Variable:                      y   R-squared:                       0.584\n",
       "Model:                            OLS   Adj. R-squared:                  0.584\n",
       "Method:                 Least Squares   F-statistic:                     7250.\n",
       "Date:                Mon, 12 Oct 2020   Prob (F-statistic):               0.00\n",
       "Time:                        18:15:33   Log-Likelihood:            -1.4834e+06\n",
       "No. Observations:              144477   AIC:                         2.967e+06\n",
       "Df Residuals:                  144448   BIC:                         2.967e+06\n",
       "Df Model:                          28                                         \n",
       "Covariance Type:            nonrobust                                         \n",
       "=======================================================================================\n",
       "                          coef    std err          t      P>|t|      [0.025      0.975]\n",
       "---------------------------------------------------------------------------------------\n",
       "constant             1.036e+04     95.704    108.206      0.000    1.02e+04    1.05e+04\n",
       "age                  -382.8583      3.176   -120.540      0.000    -389.084    -376.633\n",
       "odometer               -0.0812      0.000   -213.717      0.000      -0.082      -0.080\n",
       "text_len                0.2562      0.007     37.543      0.000       0.243       0.270\n",
       "cylinders            1551.0806     16.353     94.852      0.000    1519.030    1583.132\n",
       "condition_excellent  1669.4233    105.526     15.820      0.000    1462.594    1876.252\n",
       "condition_fair        388.3040    151.535      2.562      0.010      91.299     685.310\n",
       "condition_good        830.5399    106.806      7.776      0.000     621.202    1039.878\n",
       "condition_like new   2378.2983    122.673     19.387      0.000    2137.861    2618.736\n",
       "condition_n/a        2802.6369    106.125     26.409      0.000    2594.633    3010.641\n",
       "condition_new        4037.9248    476.102      8.481      0.000    3104.774    4971.076\n",
       "condition_salvage   -1751.4405    447.665     -3.912      0.000   -2628.855    -874.026\n",
       "fuel_diesel          8481.4149    101.804     83.311      0.000    8281.882    8680.948\n",
       "fuel_electric        2746.6901    305.866      8.980      0.000    2147.199    3346.181\n",
       "fuel_gas            -1225.2406     80.097    -15.297      0.000   -1382.230   -1068.251\n",
       "fuel_hybrid          -720.2102    150.913     -4.772      0.000   -1015.996    -424.425\n",
       "fuel_other           1073.0324    114.891      9.340      0.000     847.849    1298.216\n",
       "vin_has vin          5583.0321     52.476    106.393      0.000    5480.181    5685.884\n",
       "vin_no_vin           4772.6546     52.335     91.194      0.000    4670.079    4875.230\n",
       "type_SUV              238.0259     72.554      3.281      0.001      95.821     380.231\n",
       "type_bus             2261.4759    632.646      3.575      0.000    1021.502    3501.450\n",
       "type_convertible      918.4272    146.218      6.281      0.000     631.842    1205.012\n",
       "type_coupe            827.4322    108.296      7.640      0.000     615.173    1039.691\n",
       "type_hatchback      -3642.0408    115.501    -31.533      0.000   -3868.420   -3415.661\n",
       "type_mini-van       -2501.9248    135.931    -18.406      0.000   -2768.347   -2235.502\n",
       "type_n/a             -331.8684     74.630     -4.447      0.000    -478.142    -185.595\n",
       "type_offroad         7378.6672    459.848     16.046      0.000    6477.374    8279.961\n",
       "type_other            724.9297    107.103      6.769      0.000     515.011     934.849\n",
       "type_pickup          6193.0320     88.426     70.036      0.000    6019.718    6366.346\n",
       "type_sedan          -3354.8049     72.542    -46.246      0.000   -3496.986   -3212.624\n",
       "type_truck           4865.2196     90.320     53.867      0.000    4688.195    5042.244\n",
       "type_van            -1472.8861    124.041    -11.874      0.000   -1716.003   -1229.769\n",
       "type_wagon          -1747.9979    115.910    -15.081      0.000   -1975.179   -1520.817\n",
       "==============================================================================\n",
       "Omnibus:                    41180.745   Durbin-Watson:                   2.002\n",
       "Prob(Omnibus):                  0.000   Jarque-Bera (JB):           252190.089\n",
       "Skew:                           1.232   Prob(JB):                         0.00\n",
       "Kurtosis:                       8.985   Cond. No.                     1.91e+16\n",
       "==============================================================================\n",
       "\n",
       "Notes:\n",
       "[1] Standard Errors assume that the covariance matrix of the errors is correctly specified.\n",
       "[2] The smallest eigenvalue is 5.85e-18. This might indicate that there are\n",
       "strong multicollinearity problems or that the design matrix is singular.\n",
       "\"\"\""
      ]
     },
     "execution_count": 76,
     "metadata": {},
     "output_type": "execute_result"
    }
   ],
   "source": [
    "#actual regression \n",
    "X3 = pd.get_dummies(data_final[['constant','age','odometer','text_len','cylinders','condition','fuel','vin','type']])\n",
    "y3 = data_final.price.values\n",
    "\n",
    "X_train3, X_test3, y_train3, y_test3 = train_test_split(X3, y3, test_size=0.3, random_state=0)\n",
    "\n",
    "reg_sm3 = sm.OLS(y_train3, X_train3).fit()\n",
    "reg_sm3.summary()"
   ]
  },
  {
   "cell_type": "code",
   "execution_count": 79,
   "metadata": {},
   "outputs": [],
   "source": [
    "y_hat3 = reg_sm3.predict(X_test3)"
   ]
  },
  {
   "cell_type": "code",
   "execution_count": 80,
   "metadata": {},
   "outputs": [
    {
     "data": {
      "text/plain": [
       "<matplotlib.collections.PathCollection at 0x2d7dc852520>"
      ]
     },
     "execution_count": 80,
     "metadata": {},
     "output_type": "execute_result"
    },
    {
     "data": {
      "image/png": "[encoded data removed]",
      "text/plain": [
       "<Figure size 432x288 with 1 Axes>"
      ]
     },
     "metadata": {
      "needs_background": "light"
     },
     "output_type": "display_data"
    }
   ],
   "source": [
    "rmse3 = math.sqrt(mean_squared_error(y_hat3,y_test3))\n",
    "\n",
    "plt.scatter(y_hat3,y_test3)"
   ]
  },
  {
   "cell_type": "code",
   "execution_count": 82,
   "metadata": {},
   "outputs": [
    {
     "data": {
      "text/plain": [
       "array([7156.36661288, 7103.51205375, 6942.57283328, 6964.9634803 ,\n",
       "       6892.65777547])"
      ]
     },
     "execution_count": 82,
     "metadata": {},
     "output_type": "execute_result"
    }
   ],
   "source": [
    "#cross validation 5 fold \n",
    "from sklearn.model_selection import cross_val_score \n",
    "X4 = pd.get_dummies(data_final[['age','odometer','cylinders','condition','fuel','vin','type']])\n",
    "y4 = data_final.price.values\n",
    "\n",
    "X_train4, X_test4, y_train4, y_test4 = train_test_split(X4, y4, test_size=0.3, random_state=0)\n",
    "\n",
    "reg4 = LinearRegression().fit(X_train4, y_train4)\n",
    "reg4.score(X_train4,y_train4)\n",
    "\n",
    "scores = cross_val_score(reg4,X4,y4, cv=5, scoring = 'neg_mean_squared_error')\n",
    "np.sqrt(np.abs(scores))"
   ]
  }
 ],
 "metadata": {
  "kernelspec": {
   "display_name": "Python 3",
   "language": "python",
   "name": "python3"
  },
  "language_info": {
   "codemirror_mode": {
    "name": "ipython",
    "version": 3
   },
   "file_extension": ".py",
   "mimetype": "text/x-python",
   "name": "python",
   "nbconvert_exporter": "python",
   "pygments_lexer": "ipython3",
   "version": "3.8.3"
  }
 },
 "nbformat": 4,
 "nbformat_minor": 4
}
